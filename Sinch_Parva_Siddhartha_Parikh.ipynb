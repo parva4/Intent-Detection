{
  "nbformat": 4,
  "nbformat_minor": 0,
  "metadata": {
    "colab": {
      "name": "Sinch_Parva Siddhartha Parikh.ipynb",
      "provenance": [],
      "collapsed_sections": []
    },
    "kernelspec": {
      "name": "python3",
      "display_name": "Python 3"
    },
    "language_info": {
      "name": "python"
    }
  },
  "cells": [
    {
      "cell_type": "code",
      "source": [
        "!pip install mord\n",
        "!pip install dmba"
      ],
      "metadata": {
        "colab": {
          "base_uri": "https://localhost:8080/"
        },
        "id": "YDYBqdXNmDXp",
        "outputId": "2a4e4554-0b57-4031-c5db-f619a44fee4e"
      },
      "execution_count": null,
      "outputs": [
        {
          "output_type": "stream",
          "name": "stdout",
          "text": [
            "Looking in indexes: https://pypi.org/simple, https://us-python.pkg.dev/colab-wheels/public/simple/\n",
            "Collecting mord\n",
            "  Downloading mord-0.6.tar.gz (4.7 kB)\n",
            "Building wheels for collected packages: mord\n",
            "  Building wheel for mord (setup.py) ... \u001b[?25l\u001b[?25hdone\n",
            "  Created wheel for mord: filename=mord-0.6-py3-none-any.whl size=6006 sha256=c6ca21c8a2e64454f8e8078bb00d27ee2a27ce5c291a5dcb4d128eb1410a5b33\n",
            "  Stored in directory: /root/.cache/pip/wheels/80/1d/8a/bef1a01b6a3c91494905d161d5426c181819f9730a773141eb\n",
            "Successfully built mord\n",
            "Installing collected packages: mord\n",
            "Successfully installed mord-0.6\n",
            "Looking in indexes: https://pypi.org/simple, https://us-python.pkg.dev/colab-wheels/public/simple/\n",
            "Collecting dmba\n",
            "  Downloading dmba-0.1.0-py3-none-any.whl (11.8 MB)\n",
            "\u001b[K     |████████████████████████████████| 11.8 MB 2.4 MB/s \n",
            "\u001b[?25hInstalling collected packages: dmba\n",
            "Successfully installed dmba-0.1.0\n"
          ]
        }
      ]
    },
    {
      "cell_type": "code",
      "source": [
        "import numpy as np\n",
        "import pandas as pd\n",
        "from sklearn.decomposition import PCA\n",
        "from sklearn.model_selection import train_test_split\n",
        "from sklearn.linear_model import LinearRegression\n",
        "from sklearn.model_selection import cross_val_score\n",
        "from dmba import adjusted_r2_score, AIC_score, BIC_score\n",
        "from sklearn.linear_model import LogisticRegression, LogisticRegressionCV\n",
        "from dmba import classificationSummary, gainsChart, liftChart\n",
        "from dmba.metric import AIC_score\n",
        "from sklearn.naive_bayes import MultinomialNB"
      ],
      "metadata": {
        "id": "4BSVWVdbj1tL"
      },
      "execution_count": null,
      "outputs": []
    },
    {
      "cell_type": "code",
      "source": [
        "#since there are too many classes, we may treat the problem as a numerical outcome prediction problem \n",
        "#and apply linear regression over it"
      ],
      "metadata": {
        "id": "EC6kVl_4n1Y4"
      },
      "execution_count": null,
      "outputs": []
    },
    {
      "cell_type": "code",
      "source": [
        "x_train=pd.DataFrame(np.load('X_train.npy'))\n",
        "x_train.shape"
      ],
      "metadata": {
        "colab": {
          "base_uri": "https://localhost:8080/"
        },
        "id": "dmGeo7FSkP_Y",
        "outputId": "5ccb12a4-5e6c-465d-ae0f-f1e13e3fc6e9"
      },
      "execution_count": null,
      "outputs": [
        {
          "output_type": "execute_result",
          "data": {
            "text/plain": [
              "(1663, 768)"
            ]
          },
          "metadata": {},
          "execution_count": 203
        }
      ]
    },
    {
      "cell_type": "code",
      "source": [
        "x_test=pd.DataFrame(np.load('X_test.npy'))"
      ],
      "metadata": {
        "id": "OjYrGYhfkHsJ"
      },
      "execution_count": null,
      "outputs": []
    },
    {
      "cell_type": "code",
      "source": [
        "y_train=pd.read_csv('y_train.csv')"
      ],
      "metadata": {
        "id": "2xh9cnmgkKak"
      },
      "execution_count": null,
      "outputs": []
    },
    {
      "cell_type": "code",
      "source": [
        "y_train.drop(columns='Id',inplace=True)"
      ],
      "metadata": {
        "id": "lhHkiT4FlErl"
      },
      "execution_count": null,
      "outputs": []
    },
    {
      "cell_type": "code",
      "source": [
        "x_train.var() \n",
        "#variances in the same range, no need of standardizations"
      ],
      "metadata": {
        "colab": {
          "base_uri": "https://localhost:8080/"
        },
        "id": "Xsm_SOaNlIYP",
        "outputId": "8697f821-37a2-4d8d-91f4-7099220e553d"
      },
      "execution_count": null,
      "outputs": [
        {
          "output_type": "execute_result",
          "data": {
            "text/plain": [
              "0      0.000871\n",
              "1      0.000903\n",
              "2      0.000896\n",
              "3      0.001287\n",
              "4      0.001049\n",
              "         ...   \n",
              "763    0.001068\n",
              "764    0.000759\n",
              "765    0.000937\n",
              "766    0.000951\n",
              "767    0.001036\n",
              "Length: 768, dtype: float32"
            ]
          },
          "metadata": {},
          "execution_count": 207
        }
      ]
    },
    {
      "cell_type": "markdown",
      "source": [
        "## **Linear Regression**"
      ],
      "metadata": {
        "id": "DYVeKJ0szlgK"
      }
    },
    {
      "cell_type": "markdown",
      "source": [
        "Dimension reduction using PCA, will help save computing time"
      ],
      "metadata": {
        "id": "vY9bvxLJntFZ"
      }
    },
    {
      "cell_type": "code",
      "source": [
        "pca=PCA(n_components=250)"
      ],
      "metadata": {
        "id": "KL8NzaBClav2"
      },
      "execution_count": null,
      "outputs": []
    },
    {
      "cell_type": "code",
      "source": [
        "pca.fit(x_train)"
      ],
      "metadata": {
        "colab": {
          "base_uri": "https://localhost:8080/"
        },
        "id": "1YN-IJzunQbn",
        "outputId": "3b085716-d1eb-464b-9a7e-973d72d44198"
      },
      "execution_count": null,
      "outputs": [
        {
          "output_type": "execute_result",
          "data": {
            "text/plain": [
              "PCA(n_components=250)"
            ]
          },
          "metadata": {},
          "execution_count": 209
        }
      ]
    },
    {
      "cell_type": "code",
      "source": [
        "np.cumsum(pca.explained_variance_ratio_)"
      ],
      "metadata": {
        "colab": {
          "base_uri": "https://localhost:8080/"
        },
        "id": "IUrpclSnngqt",
        "outputId": "08fef43f-d1a9-41e8-ac9c-6f8e9ea1d51b"
      },
      "execution_count": null,
      "outputs": [
        {
          "output_type": "execute_result",
          "data": {
            "text/plain": [
              "array([0.05475494, 0.09107381, 0.12226923, 0.15184842, 0.17607905,\n",
              "       0.19890065, 0.22003889, 0.24040374, 0.2589863 , 0.27685457,\n",
              "       0.29433876, 0.31039208, 0.3262475 , 0.34158716, 0.35655236,\n",
              "       0.37015647, 0.3827712 , 0.39513862, 0.40728545, 0.4189422 ,\n",
              "       0.43021733, 0.4412626 , 0.45199186, 0.46239695, 0.4724035 ,\n",
              "       0.48211953, 0.49148756, 0.5007123 , 0.5096055 , 0.5183848 ,\n",
              "       0.526785  , 0.5350509 , 0.5431321 , 0.5509201 , 0.55848914,\n",
              "       0.5659731 , 0.57334983, 0.58065975, 0.5877889 , 0.5947421 ,\n",
              "       0.6014746 , 0.60813624, 0.6146683 , 0.6210592 , 0.6273205 ,\n",
              "       0.6335089 , 0.6395609 , 0.64543974, 0.65115565, 0.65675306,\n",
              "       0.66228354, 0.66766286, 0.67301637, 0.6782242 , 0.68332374,\n",
              "       0.6883797 , 0.6933442 , 0.69827884, 0.70307976, 0.7078641 ,\n",
              "       0.71245724, 0.7170414 , 0.7215198 , 0.7258744 , 0.7301824 ,\n",
              "       0.7344263 , 0.7385508 , 0.7426265 , 0.74662364, 0.7505986 ,\n",
              "       0.7544942 , 0.7582902 , 0.7620599 , 0.7658117 , 0.76946425,\n",
              "       0.77309805, 0.77670896, 0.78025913, 0.78379303, 0.78728807,\n",
              "       0.7907616 , 0.7941246 , 0.79742205, 0.8006573 , 0.803852  ,\n",
              "       0.80702025, 0.8101015 , 0.81314445, 0.81616217, 0.8191691 ,\n",
              "       0.8220968 , 0.82498115, 0.8277826 , 0.8305384 , 0.8332637 ,\n",
              "       0.8359526 , 0.8385971 , 0.8412154 , 0.84382415, 0.8463997 ,\n",
              "       0.8489367 , 0.8514107 , 0.853858  , 0.85628194, 0.8586609 ,\n",
              "       0.8610226 , 0.8633577 , 0.865662  , 0.8679024 , 0.8701246 ,\n",
              "       0.8722923 , 0.8744502 , 0.8765786 , 0.8786657 , 0.88075006,\n",
              "       0.882773  , 0.88478297, 0.88672686, 0.8886568 , 0.8905543 ,\n",
              "       0.8924365 , 0.89428633, 0.89611214, 0.8979172 , 0.899711  ,\n",
              "       0.90143985, 0.90315765, 0.90482366, 0.9064829 , 0.9080916 ,\n",
              "       0.9096858 , 0.9112568 , 0.9128142 , 0.9143507 , 0.915868  ,\n",
              "       0.9173567 , 0.91881853, 0.92025304, 0.9216796 , 0.92309314,\n",
              "       0.9244864 , 0.9258662 , 0.92720604, 0.9285172 , 0.92980534,\n",
              "       0.931073  , 0.9323293 , 0.93357307, 0.93478036, 0.9359644 ,\n",
              "       0.93711984, 0.938245  , 0.939348  , 0.94044447, 0.94150615,\n",
              "       0.94256335, 0.9436053 , 0.94463724, 0.9456529 , 0.9466633 ,\n",
              "       0.94765913, 0.9486365 , 0.9496054 , 0.9505539 , 0.9514713 ,\n",
              "       0.95235556, 0.9532334 , 0.9540937 , 0.9549363 , 0.95577186,\n",
              "       0.9565988 , 0.9573922 , 0.95816857, 0.9589375 , 0.959696  ,\n",
              "       0.96044016, 0.9611681 , 0.9618701 , 0.96255785, 0.9632287 ,\n",
              "       0.9638859 , 0.96452886, 0.9651558 , 0.9657809 , 0.9663812 ,\n",
              "       0.96695673, 0.96750563, 0.9680446 , 0.9685702 , 0.9690886 ,\n",
              "       0.9695803 , 0.9700669 , 0.97054034, 0.97099113, 0.9714006 ,\n",
              "       0.971808  , 0.9722025 , 0.9725686 , 0.97292453, 0.9732583 ,\n",
              "       0.973571  , 0.97386605, 0.97416097, 0.97442514, 0.97468054,\n",
              "       0.9749174 , 0.9751536 , 0.9753824 , 0.9755987 , 0.9758109 ,\n",
              "       0.97601855, 0.97622395, 0.9764269 , 0.9766206 , 0.9768096 ,\n",
              "       0.97699255, 0.9771721 , 0.97735065, 0.97752297, 0.9776936 ,\n",
              "       0.9778578 , 0.97802067, 0.9781818 , 0.9783374 , 0.9784924 ,\n",
              "       0.97864515, 0.97879624, 0.9789415 , 0.9790838 , 0.9792252 ,\n",
              "       0.9793653 , 0.9795026 , 0.9796391 , 0.9797732 , 0.9799045 ,\n",
              "       0.9800335 , 0.9801623 , 0.98028904, 0.98041546, 0.9805387 ,\n",
              "       0.98066074, 0.98078156, 0.98090166, 0.98101956, 0.9811353 ,\n",
              "       0.9812492 , 0.98136127, 0.98147064, 0.9815793 , 0.9816875 ],\n",
              "      dtype=float32)"
            ]
          },
          "metadata": {},
          "execution_count": 210
        }
      ]
    },
    {
      "cell_type": "code",
      "source": [
        "#we are able to retain 98.16% of variation with 250 components\n",
        "#as per my observation, there is no significant improvement in variation retention with further increase in # components\n",
        "#now, i'm going to use these components as my columns"
      ],
      "metadata": {
        "id": "z_uKRO6lniKB"
      },
      "execution_count": null,
      "outputs": []
    },
    {
      "cell_type": "code",
      "source": [
        "pca_xtrain=pd.DataFrame(pca.fit_transform(x_train))\n",
        "#pca_xtrain.head()"
      ],
      "metadata": {
        "id": "f6zE0uwopjkw"
      },
      "execution_count": null,
      "outputs": []
    },
    {
      "cell_type": "code",
      "source": [
        "pca_xtest=pd.DataFrame(pca.transform(x_test))\n",
        "#pca_xtest.head()"
      ],
      "metadata": {
        "id": "d02hPlLAp-TB"
      },
      "execution_count": null,
      "outputs": []
    },
    {
      "cell_type": "code",
      "source": [
        "lin_reg=LinearRegression()"
      ],
      "metadata": {
        "id": "4Wi9-eQNpqze"
      },
      "execution_count": null,
      "outputs": []
    },
    {
      "cell_type": "code",
      "source": [
        "lin_reg.fit(pca_xtrain,y_train)"
      ],
      "metadata": {
        "colab": {
          "base_uri": "https://localhost:8080/"
        },
        "id": "VuUC4K4UtGN0",
        "outputId": "bb3da1d5-7293-48b7-9a7d-c3486b56fa9c"
      },
      "execution_count": null,
      "outputs": [
        {
          "output_type": "execute_result",
          "data": {
            "text/plain": [
              "LinearRegression()"
            ]
          },
          "metadata": {},
          "execution_count": 214
        }
      ]
    },
    {
      "cell_type": "code",
      "source": [
        "test_pred=pd.DataFrame(lin_reg.predict(pca_xtest),columns=['Predictions'])"
      ],
      "metadata": {
        "id": "saw3dhYJtL3a"
      },
      "execution_count": null,
      "outputs": []
    },
    {
      "cell_type": "code",
      "source": [
        "test_pred['Predictions']=round(test_pred['Predictions'])\n",
        "test_pred.shape"
      ],
      "metadata": {
        "colab": {
          "base_uri": "https://localhost:8080/"
        },
        "id": "p2XHZcIOuSRU",
        "outputId": "25e4f4a2-c9e5-41a8-e140-e3ac04b72285"
      },
      "execution_count": null,
      "outputs": [
        {
          "output_type": "execute_result",
          "data": {
            "text/plain": [
              "(713, 1)"
            ]
          },
          "metadata": {},
          "execution_count": 216
        }
      ]
    },
    {
      "cell_type": "code",
      "source": [
        "adjusted_r2_score(y_train,lin_reg.predict(pca_xtrain),lin_reg)\n",
        "#low r2 score"
      ],
      "metadata": {
        "colab": {
          "base_uri": "https://localhost:8080/"
        },
        "id": "KUAgpsm1ylbL",
        "outputId": "60bbc945-5e85-400f-d436-767e6257a05e"
      },
      "execution_count": null,
      "outputs": [
        {
          "output_type": "execute_result",
          "data": {
            "text/plain": [
              "0.5036068899808435"
            ]
          },
          "metadata": {},
          "execution_count": 218
        }
      ]
    },
    {
      "cell_type": "code",
      "source": [
        "lin_reg_pred=pd.DataFrame(lin_reg.predict(pca_xtest),columns=['predictions_lin'])"
      ],
      "metadata": {
        "id": "l5_vuWnOe9HP"
      },
      "execution_count": null,
      "outputs": []
    },
    {
      "cell_type": "code",
      "source": [
        "lin_reg_pred['grouped_class']=np.NaN"
      ],
      "metadata": {
        "id": "SCMgYlafiOSs"
      },
      "execution_count": null,
      "outputs": []
    },
    {
      "cell_type": "code",
      "source": [
        "#grouping the classes\n",
        "i=0\n",
        "while i<lin_reg_pred.shape[0]:\n",
        "  if lin_reg_pred['predictions_lin'].loc[i]>=0 and lin_reg_pred['predictions_lin'].loc[i]<6:\n",
        "    lin_reg_pred['grouped_class'].loc[i]='0-5'\n",
        "  elif lin_reg_pred['predictions_lin'].loc[i]>=6 and lin_reg_pred['predictions_lin'].loc[i]<11:\n",
        "    lin_reg_pred['grouped_class'].loc[i]='6-10'\n",
        "  elif lin_reg_pred['predictions_lin'].loc[i]>=11 and lin_reg_pred['predictions_lin'].loc[i]<16:\n",
        "    lin_reg_pred['grouped_class'].loc[i]='11-15'\n",
        "  elif lin_reg_pred['predictions_lin'].loc[i]>=16 and lin_reg_pred['predictions_lin'].loc[i]<21:\n",
        "    lin_reg_pred['grouped_class'].loc[i]='16-20'\n",
        "  elif lin_reg_pred['predictions_lin'].loc[i]>=21 and lin_reg_pred['predictions_lin'].loc[i]<26:\n",
        "    lin_reg_pred['grouped_class'].loc[i]='21-25'\n",
        "  elif lin_reg_pred['predictions_lin'].loc[i]>=26 and lin_reg_pred['predictions_lin'].loc[i]<31:\n",
        "    lin_reg_pred['grouped_class'].loc[i]='26-30'\n",
        "  elif lin_reg_pred['predictions_lin'].loc[i]>=31 and lin_reg_pred['predictions_lin'].loc[i]<36:\n",
        "    lin_reg_pred['grouped_class'].loc[i]='31-35' \n",
        "  else:\n",
        "    lin_reg_pred['grouped_class'].loc[i]='36-40'\n",
        "  i+=1"
      ],
      "metadata": {
        "colab": {
          "base_uri": "https://localhost:8080/"
        },
        "id": "zB65pb6viuGQ",
        "outputId": "0accd5a7-dc12-489c-dd25-25163d31c16e"
      },
      "execution_count": null,
      "outputs": [
        {
          "output_type": "stream",
          "name": "stderr",
          "text": [
            "/usr/local/lib/python3.7/dist-packages/pandas/core/indexing.py:1732: SettingWithCopyWarning: \n",
            "A value is trying to be set on a copy of a slice from a DataFrame\n",
            "\n",
            "See the caveats in the documentation: https://pandas.pydata.org/pandas-docs/stable/user_guide/indexing.html#returning-a-view-versus-a-copy\n",
            "  self._setitem_single_block(indexer, value, name)\n"
          ]
        }
      ]
    },
    {
      "cell_type": "code",
      "source": [
        "from sklearn.metrics import mean_absolute_error\n",
        "from sklearn.metrics import mean_squared_error"
      ],
      "metadata": {
        "id": "vvi2sWhbrNNH"
      },
      "execution_count": null,
      "outputs": []
    },
    {
      "cell_type": "code",
      "source": [
        "mean_absolute_error(y_train['Predicted'],lin_reg.predict(pca_xtrain))"
      ],
      "metadata": {
        "colab": {
          "base_uri": "https://localhost:8080/"
        },
        "id": "MYQKkGfqriMl",
        "outputId": "21bbf6aa-e3dd-4373-f0a3-aca795fd67a2"
      },
      "execution_count": null,
      "outputs": [
        {
          "output_type": "execute_result",
          "data": {
            "text/plain": [
              "7.1353714111979585"
            ]
          },
          "metadata": {},
          "execution_count": 246
        }
      ]
    },
    {
      "cell_type": "code",
      "source": [
        "lin_reg_pred.to_csv('Lin_Reg_Predictions.csv')"
      ],
      "metadata": {
        "id": "thHGam-zjW2V"
      },
      "execution_count": null,
      "outputs": []
    },
    {
      "cell_type": "markdown",
      "source": [
        "Grouping the classes to ease classification"
      ],
      "metadata": {
        "id": "mTDlvMFPenzk"
      }
    },
    {
      "cell_type": "code",
      "source": [
        "y_train['grouped_classes']=np.NaN"
      ],
      "metadata": {
        "id": "LV6SaaBxNugr"
      },
      "execution_count": null,
      "outputs": []
    },
    {
      "cell_type": "code",
      "source": [
        "#grouping the classes\n",
        "i=0\n",
        "while i<y_train.shape[0]:\n",
        "  if y_train['Predicted'].loc[i]>=0 and y_train['Predicted'].loc[i]<6:\n",
        "    y_train['grouped_classes'].loc[i]='0-5'\n",
        "  elif y_train['Predicted'].loc[i]>=6 and y_train['Predicted'].loc[i]<11:\n",
        "    y_train['grouped_classes'].loc[i]='6-10'\n",
        "  elif y_train['Predicted'].loc[i]>=11 and y_train['Predicted'].loc[i]<16:\n",
        "    y_train['grouped_classes'].loc[i]='11-15'\n",
        "  elif y_train['Predicted'].loc[i]>=16 and y_train['Predicted'].loc[i]<21:\n",
        "    y_train['grouped_classes'].loc[i]='16-20'\n",
        "  elif y_train['Predicted'].loc[i]>=21 and y_train['Predicted'].loc[i]<26:\n",
        "    y_train['grouped_classes'].loc[i]='21-25'\n",
        "  elif y_train['Predicted'].loc[i]>=26 and y_train['Predicted'].loc[i]<31:\n",
        "    y_train['grouped_classes'].loc[i]='26-30'\n",
        "  elif y_train['Predicted'].loc[i]>=31 and y_train['Predicted'].loc[i]<36:\n",
        "    y_train['grouped_classes'].loc[i]='31-35' \n",
        "  else:\n",
        "    y_train['grouped_classes'].loc[i]='36-40'\n",
        "  i+=1"
      ],
      "metadata": {
        "colab": {
          "base_uri": "https://localhost:8080/"
        },
        "id": "yW-qjfIfO_uC",
        "outputId": "fe88fdc8-087c-4f52-c3f7-21eca1990a13"
      },
      "execution_count": null,
      "outputs": [
        {
          "output_type": "stream",
          "name": "stderr",
          "text": [
            "/usr/local/lib/python3.7/dist-packages/pandas/core/indexing.py:1732: SettingWithCopyWarning: \n",
            "A value is trying to be set on a copy of a slice from a DataFrame\n",
            "\n",
            "See the caveats in the documentation: https://pandas.pydata.org/pandas-docs/stable/user_guide/indexing.html#returning-a-view-versus-a-copy\n",
            "  self._setitem_single_block(indexer, value, name)\n"
          ]
        }
      ]
    },
    {
      "cell_type": "markdown",
      "source": [
        "# Logistic regression for classification"
      ],
      "metadata": {
        "id": "8M0EFxOqyC-d"
      }
    },
    {
      "cell_type": "code",
      "source": [
        "logistic_reg = LogisticRegression(penalty=\"l2\", C=1e42, solver='lbfgs')\n",
        "logistic_reg.fit(pca_xtrain,y_train['grouped_classes'])"
      ],
      "metadata": {
        "colab": {
          "base_uri": "https://localhost:8080/"
        },
        "id": "S--CMdm8yCXY",
        "outputId": "de67ab99-e60b-4381-beed-d59d18b73cfb"
      },
      "execution_count": null,
      "outputs": [
        {
          "output_type": "stream",
          "name": "stderr",
          "text": [
            "/usr/local/lib/python3.7/dist-packages/sklearn/linear_model/_logistic.py:818: ConvergenceWarning: lbfgs failed to converge (status=1):\n",
            "STOP: TOTAL NO. of ITERATIONS REACHED LIMIT.\n",
            "\n",
            "Increase the number of iterations (max_iter) or scale the data as shown in:\n",
            "    https://scikit-learn.org/stable/modules/preprocessing.html\n",
            "Please also refer to the documentation for alternative solver options:\n",
            "    https://scikit-learn.org/stable/modules/linear_model.html#logistic-regression\n",
            "  extra_warning_msg=_LOGISTIC_SOLVER_CONVERGENCE_MSG,\n"
          ]
        },
        {
          "output_type": "execute_result",
          "data": {
            "text/plain": [
              "LogisticRegression(C=1e+42)"
            ]
          },
          "metadata": {},
          "execution_count": 225
        }
      ]
    },
    {
      "cell_type": "code",
      "source": [
        "Predictions=pd.DataFrame(logistic_reg.predict(pca_xtest),columns=['Predictions'])\n",
        "Predictions.shape"
      ],
      "metadata": {
        "colab": {
          "base_uri": "https://localhost:8080/"
        },
        "id": "nvxHnlsT3cbO",
        "outputId": "f2e3bc54-8998-4c29-b32b-85c920cc700f"
      },
      "execution_count": null,
      "outputs": [
        {
          "output_type": "execute_result",
          "data": {
            "text/plain": [
              "(713, 1)"
            ]
          },
          "metadata": {},
          "execution_count": 241
        }
      ]
    },
    {
      "cell_type": "code",
      "source": [
        "y_train['grouped_classes'].unique()"
      ],
      "metadata": {
        "colab": {
          "base_uri": "https://localhost:8080/"
        },
        "id": "oGtf-0BMbkA0",
        "outputId": "9afc32fc-c630-4b4e-baa4-61826881431e"
      },
      "execution_count": null,
      "outputs": [
        {
          "output_type": "execute_result",
          "data": {
            "text/plain": [
              "array(['6-10', '36-40', '11-15', '21-25', '0-5', '26-30', '16-20',\n",
              "       '31-35'], dtype=object)"
            ]
          },
          "metadata": {},
          "execution_count": 227
        }
      ]
    },
    {
      "cell_type": "code",
      "source": [
        "cross_val_score(logistic_reg,pca_xtrain,y_train['grouped_classes'],cv=5)"
      ],
      "metadata": {
        "colab": {
          "base_uri": "https://localhost:8080/"
        },
        "id": "JLVtoIXC9DeE",
        "outputId": "f1c9db9b-6b5f-40bd-d293-3b78e94c9ffb"
      },
      "execution_count": null,
      "outputs": [
        {
          "output_type": "stream",
          "name": "stderr",
          "text": [
            "/usr/local/lib/python3.7/dist-packages/sklearn/linear_model/_logistic.py:818: ConvergenceWarning: lbfgs failed to converge (status=1):\n",
            "STOP: TOTAL NO. of ITERATIONS REACHED LIMIT.\n",
            "\n",
            "Increase the number of iterations (max_iter) or scale the data as shown in:\n",
            "    https://scikit-learn.org/stable/modules/preprocessing.html\n",
            "Please also refer to the documentation for alternative solver options:\n",
            "    https://scikit-learn.org/stable/modules/linear_model.html#logistic-regression\n",
            "  extra_warning_msg=_LOGISTIC_SOLVER_CONVERGENCE_MSG,\n",
            "/usr/local/lib/python3.7/dist-packages/sklearn/linear_model/_logistic.py:818: ConvergenceWarning: lbfgs failed to converge (status=1):\n",
            "STOP: TOTAL NO. of ITERATIONS REACHED LIMIT.\n",
            "\n",
            "Increase the number of iterations (max_iter) or scale the data as shown in:\n",
            "    https://scikit-learn.org/stable/modules/preprocessing.html\n",
            "Please also refer to the documentation for alternative solver options:\n",
            "    https://scikit-learn.org/stable/modules/linear_model.html#logistic-regression\n",
            "  extra_warning_msg=_LOGISTIC_SOLVER_CONVERGENCE_MSG,\n",
            "/usr/local/lib/python3.7/dist-packages/sklearn/linear_model/_logistic.py:818: ConvergenceWarning: lbfgs failed to converge (status=1):\n",
            "STOP: TOTAL NO. of ITERATIONS REACHED LIMIT.\n",
            "\n",
            "Increase the number of iterations (max_iter) or scale the data as shown in:\n",
            "    https://scikit-learn.org/stable/modules/preprocessing.html\n",
            "Please also refer to the documentation for alternative solver options:\n",
            "    https://scikit-learn.org/stable/modules/linear_model.html#logistic-regression\n",
            "  extra_warning_msg=_LOGISTIC_SOLVER_CONVERGENCE_MSG,\n",
            "/usr/local/lib/python3.7/dist-packages/sklearn/linear_model/_logistic.py:818: ConvergenceWarning: lbfgs failed to converge (status=1):\n",
            "STOP: TOTAL NO. of ITERATIONS REACHED LIMIT.\n",
            "\n",
            "Increase the number of iterations (max_iter) or scale the data as shown in:\n",
            "    https://scikit-learn.org/stable/modules/preprocessing.html\n",
            "Please also refer to the documentation for alternative solver options:\n",
            "    https://scikit-learn.org/stable/modules/linear_model.html#logistic-regression\n",
            "  extra_warning_msg=_LOGISTIC_SOLVER_CONVERGENCE_MSG,\n",
            "/usr/local/lib/python3.7/dist-packages/sklearn/linear_model/_logistic.py:818: ConvergenceWarning: lbfgs failed to converge (status=1):\n",
            "STOP: TOTAL NO. of ITERATIONS REACHED LIMIT.\n",
            "\n",
            "Increase the number of iterations (max_iter) or scale the data as shown in:\n",
            "    https://scikit-learn.org/stable/modules/preprocessing.html\n",
            "Please also refer to the documentation for alternative solver options:\n",
            "    https://scikit-learn.org/stable/modules/linear_model.html#logistic-regression\n",
            "  extra_warning_msg=_LOGISTIC_SOLVER_CONVERGENCE_MSG,\n"
          ]
        },
        {
          "output_type": "execute_result",
          "data": {
            "text/plain": [
              "array([0.56156156, 0.49249249, 0.54654655, 0.50903614, 0.48795181])"
            ]
          },
          "metadata": {},
          "execution_count": 228
        }
      ]
    },
    {
      "cell_type": "code",
      "source": [
        "Predictions.to_html('LogisticRegression_predictions.html')"
      ],
      "metadata": {
        "id": "kcXcQmEBqqrq"
      },
      "execution_count": null,
      "outputs": []
    },
    {
      "cell_type": "markdown",
      "source": [
        "# Naive Bayes"
      ],
      "metadata": {
        "id": "MV63pL869ht_"
      }
    },
    {
      "cell_type": "code",
      "source": [
        "from sklearn.preprocessing import minmax_scale"
      ],
      "metadata": {
        "id": "cbVE_TOCm-7T"
      },
      "execution_count": null,
      "outputs": []
    },
    {
      "cell_type": "code",
      "source": [
        "nb_train=minmax_scale(pca_xtrain,feature_range=(0,1))\n",
        "nb_test=minmax_scale(pca_xtest,feature_range=(0,1))"
      ],
      "metadata": {
        "id": "vJJZWZWMnHUB"
      },
      "execution_count": null,
      "outputs": []
    },
    {
      "cell_type": "code",
      "source": [
        "nb_class = MultinomialNB(alpha=0.01)\n",
        "nb_class.fit(nb_train, y_train['grouped_classes'])"
      ],
      "metadata": {
        "colab": {
          "base_uri": "https://localhost:8080/"
        },
        "id": "5RKtelYwa0Jv",
        "outputId": "cb50f047-015b-4a12-9aeb-030f4a2017d9"
      },
      "execution_count": null,
      "outputs": [
        {
          "output_type": "execute_result",
          "data": {
            "text/plain": [
              "MultinomialNB(alpha=0.01)"
            ]
          },
          "metadata": {},
          "execution_count": 231
        }
      ]
    },
    {
      "cell_type": "code",
      "source": [
        "nb_class.predict(nb_test)"
      ],
      "metadata": {
        "colab": {
          "base_uri": "https://localhost:8080/"
        },
        "id": "Sh3jATtKm762",
        "outputId": "8f0d5500-51d7-4642-dfa4-129ee119cfc7"
      },
      "execution_count": null,
      "outputs": [
        {
          "output_type": "execute_result",
          "data": {
            "text/plain": [
              "array(['0-5', '0-5', '0-5', '0-5', '0-5', '0-5', '0-5', '0-5', '0-5',\n",
              "       '0-5', '0-5', '0-5', '0-5', '0-5', '0-5', '0-5', '0-5', '0-5',\n",
              "       '0-5', '0-5', '0-5', '0-5', '0-5', '0-5', '0-5', '0-5', '0-5',\n",
              "       '0-5', '0-5', '0-5', '0-5', '0-5', '0-5', '0-5', '0-5', '0-5',\n",
              "       '0-5', '0-5', '0-5', '0-5', '0-5', '0-5', '0-5', '0-5', '0-5',\n",
              "       '11-15', '0-5', '0-5', '0-5', '0-5', '0-5', '0-5', '0-5', '0-5',\n",
              "       '0-5', '0-5', '0-5', '0-5', '0-5', '0-5', '0-5', '0-5', '0-5',\n",
              "       '0-5', '0-5', '0-5', '0-5', '0-5', '0-5', '0-5', '0-5', '0-5',\n",
              "       '11-15', '0-5', '0-5', '0-5', '0-5', '0-5', '0-5', '0-5', '0-5',\n",
              "       '0-5', '0-5', '0-5', '0-5', '0-5', '0-5', '0-5', '0-5', '0-5',\n",
              "       '0-5', '0-5', '0-5', '0-5', '0-5', '0-5', '0-5', '0-5', '0-5',\n",
              "       '11-15', '0-5', '0-5', '0-5', '0-5', '0-5', '0-5', '0-5', '0-5',\n",
              "       '0-5', '0-5', '0-5', '0-5', '0-5', '0-5', '0-5', '0-5', '0-5',\n",
              "       '0-5', '0-5', '0-5', '0-5', '0-5', '0-5', '0-5', '0-5', '0-5',\n",
              "       '0-5', '0-5', '0-5', '0-5', '0-5', '0-5', '0-5', '0-5', '0-5',\n",
              "       '0-5', '0-5', '0-5', '0-5', '0-5', '0-5', '0-5', '0-5', '0-5',\n",
              "       '0-5', '0-5', '0-5', '0-5', '0-5', '0-5', '0-5', '0-5', '0-5',\n",
              "       '0-5', '0-5', '0-5', '0-5', '0-5', '0-5', '0-5', '0-5', '0-5',\n",
              "       '0-5', '0-5', '0-5', '0-5', '0-5', '0-5', '0-5', '0-5', '0-5',\n",
              "       '0-5', '0-5', '0-5', '0-5', '0-5', '0-5', '0-5', '0-5', '0-5',\n",
              "       '0-5', '0-5', '0-5', '0-5', '0-5', '0-5', '0-5', '0-5', '0-5',\n",
              "       '0-5', '0-5', '0-5', '0-5', '0-5', '11-15', '0-5', '0-5', '0-5',\n",
              "       '0-5', '0-5', '0-5', '0-5', '0-5', '0-5', '0-5', '0-5', '0-5',\n",
              "       '0-5', '0-5', '0-5', '0-5', '0-5', '0-5', '0-5', '0-5', '0-5',\n",
              "       '0-5', '0-5', '0-5', '0-5', '0-5', '0-5', '0-5', '0-5', '0-5',\n",
              "       '0-5', '0-5', '0-5', '0-5', '0-5', '0-5', '0-5', '0-5', '0-5',\n",
              "       '0-5', '0-5', '0-5', '0-5', '0-5', '0-5', '0-5', '0-5', '0-5',\n",
              "       '0-5', '0-5', '0-5', '0-5', '0-5', '0-5', '0-5', '0-5', '0-5',\n",
              "       '0-5', '0-5', '0-5', '0-5', '0-5', '0-5', '0-5', '0-5', '0-5',\n",
              "       '0-5', '0-5', '0-5', '0-5', '0-5', '0-5', '0-5', '0-5', '0-5',\n",
              "       '0-5', '0-5', '0-5', '0-5', '0-5', '0-5', '0-5', '0-5', '0-5',\n",
              "       '0-5', '0-5', '0-5', '0-5', '0-5', '0-5', '0-5', '0-5', '0-5',\n",
              "       '0-5', '0-5', '0-5', '0-5', '0-5', '0-5', '11-15', '0-5', '0-5',\n",
              "       '0-5', '0-5', '0-5', '0-5', '0-5', '0-5', '0-5', '0-5', '0-5',\n",
              "       '0-5', '0-5', '0-5', '0-5', '0-5', '0-5', '0-5', '0-5', '0-5',\n",
              "       '0-5', '0-5', '0-5', '0-5', '0-5', '0-5', '0-5', '0-5', '0-5',\n",
              "       '0-5', '0-5', '0-5', '0-5', '0-5', '0-5', '0-5', '0-5', '0-5',\n",
              "       '0-5', '0-5', '0-5', '11-15', '0-5', '0-5', '0-5', '0-5', '0-5',\n",
              "       '0-5', '0-5', '0-5', '0-5', '0-5', '0-5', '0-5', '0-5', '0-5',\n",
              "       '0-5', '0-5', '0-5', '0-5', '0-5', '0-5', '0-5', '0-5', '0-5',\n",
              "       '0-5', '0-5', '0-5', '0-5', '0-5', '11-15', '0-5', '0-5', '0-5',\n",
              "       '0-5', '0-5', '0-5', '0-5', '0-5', '0-5', '0-5', '0-5', '0-5',\n",
              "       '0-5', '0-5', '0-5', '0-5', '0-5', '0-5', '0-5', '0-5', '0-5',\n",
              "       '0-5', '0-5', '0-5', '0-5', '0-5', '0-5', '0-5', '0-5', '0-5',\n",
              "       '0-5', '0-5', '0-5', '0-5', '0-5', '0-5', '0-5', '0-5', '0-5',\n",
              "       '0-5', '0-5', '0-5', '0-5', '0-5', '0-5', '0-5', '0-5', '0-5',\n",
              "       '0-5', '0-5', '0-5', '0-5', '0-5', '0-5', '0-5', '0-5', '0-5',\n",
              "       '0-5', '0-5', '0-5', '0-5', '0-5', '0-5', '0-5', '0-5', '0-5',\n",
              "       '0-5', '0-5', '0-5', '0-5', '0-5', '0-5', '0-5', '0-5', '0-5',\n",
              "       '0-5', '0-5', '0-5', '0-5', '0-5', '0-5', '0-5', '0-5', '0-5',\n",
              "       '0-5', '0-5', '0-5', '0-5', '0-5', '0-5', '0-5', '0-5', '0-5',\n",
              "       '0-5', '0-5', '0-5', '0-5', '0-5', '0-5', '0-5', '0-5', '0-5',\n",
              "       '0-5', '0-5', '0-5', '0-5', '0-5', '0-5', '0-5', '0-5', '0-5',\n",
              "       '0-5', '0-5', '0-5', '0-5', '0-5', '0-5', '0-5', '0-5', '0-5',\n",
              "       '0-5', '0-5', '0-5', '0-5', '0-5', '0-5', '0-5', '0-5', '0-5',\n",
              "       '0-5', '0-5', '0-5', '0-5', '0-5', '0-5', '0-5', '0-5', '0-5',\n",
              "       '0-5', '0-5', '0-5', '0-5', '0-5', '0-5', '0-5', '0-5', '0-5',\n",
              "       '0-5', '0-5', '0-5', '0-5', '0-5', '0-5', '0-5', '0-5', '0-5',\n",
              "       '0-5', '0-5', '0-5', '0-5', '0-5', '0-5', '0-5', '0-5', '0-5',\n",
              "       '0-5', '0-5', '0-5', '0-5', '0-5', '0-5', '0-5', '0-5', '0-5',\n",
              "       '0-5', '0-5', '0-5', '0-5', '0-5', '0-5', '0-5', '0-5', '0-5',\n",
              "       '0-5', '0-5', '0-5', '0-5', '0-5', '0-5', '0-5', '0-5', '0-5',\n",
              "       '0-5', '0-5', '0-5', '0-5', '0-5', '0-5', '0-5', '0-5', '0-5',\n",
              "       '0-5', '0-5', '0-5', '0-5', '0-5', '0-5', '0-5', '0-5', '0-5',\n",
              "       '0-5', '0-5', '0-5', '0-5', '0-5', '0-5', '0-5', '0-5', '0-5',\n",
              "       '0-5', '0-5', '0-5', '0-5', '0-5', '0-5', '0-5', '0-5', '0-5',\n",
              "       '0-5', '0-5', '0-5', '0-5', '0-5', '0-5', '0-5', '0-5', '0-5',\n",
              "       '0-5', '0-5', '0-5', '0-5', '0-5', '0-5', '0-5', '0-5', '0-5',\n",
              "       '0-5', '0-5', '0-5', '0-5', '0-5', '0-5', '0-5', '0-5', '0-5',\n",
              "       '0-5', '0-5', '0-5', '0-5', '0-5', '0-5', '0-5', '0-5', '0-5',\n",
              "       '0-5', '0-5', '0-5', '0-5', '0-5', '0-5', '0-5', '0-5', '0-5',\n",
              "       '0-5', '0-5', '0-5', '0-5', '0-5', '0-5', '0-5', '0-5', '0-5',\n",
              "       '0-5', '0-5', '0-5', '0-5', '0-5', '0-5', '0-5', '0-5', '0-5',\n",
              "       '0-5', '0-5', '0-5', '0-5', '0-5', '0-5', '0-5', '0-5', '0-5',\n",
              "       '0-5', '0-5', '0-5', '0-5', '0-5', '0-5', '0-5', '0-5', '0-5',\n",
              "       '0-5', '0-5', '0-5', '0-5', '0-5', '0-5', '0-5', '0-5', '0-5',\n",
              "       '0-5', '0-5', '11-15', '0-5', '0-5', '0-5', '0-5', '0-5', '0-5',\n",
              "       '0-5', '0-5', '0-5', '0-5', '0-5', '0-5', '0-5', '0-5', '0-5',\n",
              "       '0-5', '0-5', '0-5', '0-5', '0-5', '0-5', '0-5', '0-5', '0-5',\n",
              "       '0-5', '0-5'], dtype='<U5')"
            ]
          },
          "metadata": {},
          "execution_count": 232
        }
      ]
    },
    {
      "cell_type": "code",
      "source": [
        "cross_val_score(nb_class,nb_train,y_train['grouped_classes'])"
      ],
      "metadata": {
        "colab": {
          "base_uri": "https://localhost:8080/"
        },
        "id": "aEnvbYm8oWBX",
        "outputId": "7c07e8a8-f468-45b4-a00d-f3111f8ddb46"
      },
      "execution_count": null,
      "outputs": [
        {
          "output_type": "execute_result",
          "data": {
            "text/plain": [
              "array([0.24324324, 0.24924925, 0.24924925, 0.25      , 0.2439759 ])"
            ]
          },
          "metadata": {},
          "execution_count": 235
        }
      ]
    }
  ]
}